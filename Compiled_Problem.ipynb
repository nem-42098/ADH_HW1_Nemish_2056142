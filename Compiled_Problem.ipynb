{
 "cells": [
  {
   "cell_type": "markdown",
   "id": "04c009bf",
   "metadata": {},
   "source": [
    "#### Say \"Hello, World!\" With Python"
   ]
  },
  {
   "cell_type": "code",
   "execution_count": null,
   "id": "52ce6bd5",
   "metadata": {},
   "outputs": [],
   "source": [
    "print(\"Hello, World!\")\n"
   ]
  },
  {
   "cell_type": "markdown",
   "id": "4428a24f",
   "metadata": {},
   "source": [
    "#### Arithmetic Operators"
   ]
  },
  {
   "cell_type": "code",
   "execution_count": null,
   "id": "ce2a7c17",
   "metadata": {},
   "outputs": [],
   "source": [
    "if __name__ == '__main__':\n",
    "    a = int(input())\n",
    "    b = int(input())\n",
    "    print(a+b)\n",
    "    print(a-b)\n",
    "    print(a*b)\n"
   ]
  },
  {
   "cell_type": "markdown",
   "id": "1251f61d",
   "metadata": {},
   "source": [
    "#### Python: Division"
   ]
  },
  {
   "cell_type": "code",
   "execution_count": null,
   "id": "7cd3ee58",
   "metadata": {},
   "outputs": [],
   "source": [
    "if __name__ == '__main__':\n",
    "    a = int(input())\n",
    "    b = int(input())\n",
    "    if b!=0:\n",
    "        print(a//b) #Integer division\n",
    "        print(a/b) # Floating Division\n",
    "    else:\n",
    "        print('The Divisor should not be zero') # To check for non-zero divisor\n",
    "    \n"
   ]
  },
  {
   "cell_type": "markdown",
   "id": "a2b1430f",
   "metadata": {},
   "source": [
    "#### Loops"
   ]
  },
  {
   "cell_type": "code",
   "execution_count": null,
   "id": "adfda1ea",
   "metadata": {},
   "outputs": [],
   "source": [
    "if __name__ == '__main__':\n",
    "    n = int(input())\n",
    "    if n>=1 and n<=20: # Checking the constraint\n",
    "        for i in range(n):\n",
    "            print(i*i)\n",
    "    else:    \n",
    "         print(' Choose a number between 1 and 20')   \n"
   ]
  },
  {
   "cell_type": "markdown",
   "id": "a1deb948",
   "metadata": {},
   "source": [
    "#### Write a function"
   ]
  },
  {
   "cell_type": "code",
   "execution_count": null,
   "id": "05941ca8",
   "metadata": {},
   "outputs": [],
   "source": [
    "def is_leap(year):\n",
    "    leap = False\n",
    "    \n",
    "    # Write your logic here\n",
    "    if year>=1900 & year<=100000:\n",
    "        if year%4==0:\n",
    "            if year%100==0 and year%400==0:\n",
    "                leap=True\n",
    "            if year%100!=0:\n",
    "                leap=True\n",
    "    return leap\n",
    "\n"
   ]
  },
  {
   "cell_type": "markdown",
   "id": "332c4d89",
   "metadata": {},
   "source": [
    "#### Print Function"
   ]
  },
  {
   "cell_type": "code",
   "execution_count": null,
   "id": "7a932fe1",
   "metadata": {},
   "outputs": [],
   "source": [
    "if __name__ == '__main__':\n",
    "    n = int(input())\n",
    "    if n>=1 and n<=150:\n",
    "        for i in range(1,n+1):\n",
    "            print(i,end='')\n",
    "    else:\n",
    "        print( 'Enter a number between 1 and 150')\n"
   ]
  },
  {
   "cell_type": "markdown",
   "id": "00113d78",
   "metadata": {},
   "source": [
    "#### Python If-Else"
   ]
  },
  {
   "cell_type": "code",
   "execution_count": null,
   "id": "57a0d5f9",
   "metadata": {},
   "outputs": [],
   "source": [
    "#!/bin/python3\n",
    "\n",
    "import math\n",
    "import os\n",
    "import random\n",
    "import re\n",
    "import sys\n",
    "\n",
    "\n",
    "\n",
    "if __name__ == '__main__':\n",
    "    n = int(input().strip())\n",
    "    if n%2!=0:\n",
    "        print('Weird')\n",
    "    else:\n",
    "        if n>=2 and n<=5:\n",
    "            print('Not Weird')\n",
    "        else:\n",
    "            if n>=6 and n<=20:\n",
    "                print('Weird')\n",
    "            else:\n",
    "                print('Not Weird')\n",
    "        \n"
   ]
  },
  {
   "cell_type": "markdown",
   "id": "2f58bb7d",
   "metadata": {},
   "source": [
    "#### List Comprehensions"
   ]
  },
  {
   "cell_type": "code",
   "execution_count": null,
   "id": "8fc97c91",
   "metadata": {},
   "outputs": [],
   "source": [
    "if __name__ == '__main__':\n",
    "    x = int(input())\n",
    "    y = int(input())\n",
    "    z = int(input())\n",
    "    n = int(input())\n",
    "    list_of_c=[]\n",
    "    for i in range(0,x+1):\n",
    "        for j in range(0,y+1):\n",
    "            for k in range(0,z+1):\n",
    "                list_of_c.append([i,j,k])\n",
    "    final_list=[l for l in list_of_c if l[0]+l[1]+l[2] !=n ]\n",
    "    print(final_list)\n"
   ]
  },
  {
   "cell_type": "markdown",
   "id": "8bf3f2ae",
   "metadata": {},
   "source": [
    "#### Find the Runner-Up Score!  "
   ]
  },
  {
   "cell_type": "code",
   "execution_count": null,
   "id": "cc376115",
   "metadata": {},
   "outputs": [],
   "source": [
    "if __name__ == '__main__':\n",
    "    n = int(input())\n",
    "    arr = map(int, input().split())\n",
    "    l1=list(arr)\n",
    "    l1.sort(reverse=True) ## Arrange in descending order\n",
    "    y=[i for i in l1 if i!=l1[0]] ##Remove the top winner\n",
    "    print(y[0])\n"
   ]
  },
  {
   "cell_type": "markdown",
   "id": "9f5b4eaa",
   "metadata": {},
   "source": [
    "#### Nested Lists"
   ]
  },
  {
   "cell_type": "code",
   "execution_count": null,
   "id": "b36c0081",
   "metadata": {},
   "outputs": [],
   "source": [
    "if __name__ == '__main__':\n",
    "    list1=[]\n",
    "    for _ in range(int(input())):\n",
    "        name = input()\n",
    "        score = float(input())\n",
    "        list1.append([name,score])\n",
    "    def sort_func(l):\n",
    "        return l[1]\n",
    "    list1.sort(reverse=True,key=sort_func)\n",
    "    \n",
    "    k=len(list1)-1\n",
    "    min_1=list1[k][1]\n",
    "    min_2=-100000\n",
    "    while min_2 <= min_1:\n",
    "            if list1[k-1][1]==list1[k][1] and k>0:\n",
    "                k=k-1\n",
    "          \n",
    "            else:\n",
    "                min_2=list1[k-1][1]\n",
    "                \n",
    "\n",
    "   # min_2=list1[k-1][1]\n",
    "    second_runner=[y for y in list1 if y[1]==min_2]\n",
    "\n",
    "    def sort_func2(l):\n",
    "        return l[0][0]\n",
    "    second_runner.sort(key=sort_func2)\n",
    "    for i in second_runner:\n",
    "        print(i[0])\n"
   ]
  },
  {
   "cell_type": "markdown",
   "id": "7f90b8d8",
   "metadata": {},
   "source": [
    "#### Finding the percentage"
   ]
  },
  {
   "cell_type": "code",
   "execution_count": null,
   "id": "fe733b99",
   "metadata": {},
   "outputs": [],
   "source": [
    "if __name__ == '__main__':\n",
    "    n = int(input())\n",
    "    student_marks = {}\n",
    "    for _ in range(n):\n",
    "        name, *line = input().split()\n",
    "        scores = list(map(float, line))\n",
    "        student_marks[name] = scores\n",
    "    query_name = input()\n",
    "    student_marks[query_name]\n",
    "    average_marks=sum(student_marks[query_name])/len(student_marks[query_name])\n",
    "    print('%.2f'%average_marks)\n"
   ]
  },
  {
   "cell_type": "markdown",
   "id": "cef06b9d",
   "metadata": {},
   "source": [
    "#### Lists"
   ]
  },
  {
   "cell_type": "code",
   "execution_count": null,
   "id": "88da5c35",
   "metadata": {},
   "outputs": [],
   "source": [
    "if __name__ == '__main__':\n",
    "    N = int(input())\n",
    "    l3=[] ## input\n",
    "    l2=[] ## commmand\n",
    "    l1=[]\n",
    "    for _ in range(N):\n",
    "        b,*a=input().split()\n",
    "        l2.append(b)\n",
    "        l3.append(a)\n",
    "\n",
    "    for j,i in enumerate(l2):\n",
    "        if i=='insert':\n",
    "            l1.insert(int(l3[j][0]),int(l3[j][1]))\n",
    "        elif i=='print':\n",
    "            print(l1)\n",
    "        elif i=='remove':\n",
    "            l1.remove(int(l3[j][0]))\n",
    "        elif i=='append':\n",
    "            l1.append(int(l3[j][0]))\n",
    "        elif i=='sort':\n",
    "            l1.sort()\n",
    "        elif i=='pop':\n",
    "            l1.pop()\n",
    "        else:\n",
    "            l1.reverse()\n",
    "                \n"
   ]
  },
  {
   "cell_type": "markdown",
   "id": "9da61f2b",
   "metadata": {},
   "source": [
    "#### sWAP cASE"
   ]
  },
  {
   "cell_type": "code",
   "execution_count": null,
   "id": "d80c3c3b",
   "metadata": {},
   "outputs": [],
   "source": [
    "def swap_case(s):\n",
    "    x=''\n",
    "    for i in range(len(s)):\n",
    "        \n",
    "        if s[i].islower():\n",
    "           x=x+s[i].upper()\n",
    "        else:\n",
    "           x=x+s[i].lower()\n",
    "    return x.strip()\n",
    "\n"
   ]
  },
  {
   "cell_type": "markdown",
   "id": "b02db637",
   "metadata": {},
   "source": [
    "#### String Split and Join"
   ]
  },
  {
   "cell_type": "code",
   "execution_count": null,
   "id": "2d2cd6a8",
   "metadata": {},
   "outputs": [],
   "source": [
    "def split_and_join(line):\n",
    "    # write your code here\n",
    "    line=line.split(\" \")\n",
    "    line=\"-\".join(line)\n",
    "    return line\n",
    "\n"
   ]
  },
  {
   "cell_type": "markdown",
   "id": "e82da799",
   "metadata": {},
   "source": [
    "#### What's Your Name?"
   ]
  },
  {
   "cell_type": "code",
   "execution_count": null,
   "id": "0023ed39",
   "metadata": {},
   "outputs": [],
   "source": [
    "#\n",
    "# Complete the 'print_full_name' function below.\n",
    "#\n",
    "# The function is expected to return a STRING.\n",
    "# The function accepts following parameters:\n",
    "#  1. STRING first\n",
    "#  2. STRING last\n",
    "#\n",
    "\n",
    "def print_full_name(first, last):\n",
    "    print('Hello'+' '+first+' '+last+'! You just delved into python.')\n",
    "    # Write your code here\n",
    "\n"
   ]
  },
  {
   "cell_type": "markdown",
   "id": "45e5838a",
   "metadata": {},
   "source": [
    "#### Mutations"
   ]
  },
  {
   "cell_type": "code",
   "execution_count": null,
   "id": "f54da974",
   "metadata": {},
   "outputs": [],
   "source": [
    "def mutate_string(string, position, character):\n",
    "    l1=list(string)\n",
    "    l1[position]=character\n",
    "    string=''.join(l1)\n",
    "    return string\n",
    "\n"
   ]
  },
  {
   "cell_type": "markdown",
   "id": "470064e1",
   "metadata": {},
   "source": [
    "#### Find a string"
   ]
  },
  {
   "cell_type": "code",
   "execution_count": null,
   "id": "9c827fc8",
   "metadata": {},
   "outputs": [],
   "source": [
    "def count_substring(string, sub_string):\n",
    "    count=0\n",
    "    for i in range(len(string)):\n",
    "        sub_length=len(sub_string)\n",
    "        if string[i:sub_length+i]==sub_string:\n",
    "            count=count+1\n",
    "    return count\n",
    "\n"
   ]
  },
  {
   "cell_type": "markdown",
   "id": "112a401e",
   "metadata": {},
   "source": [
    "#### String Validators"
   ]
  },
  {
   "cell_type": "code",
   "execution_count": null,
   "id": "9da5c016",
   "metadata": {},
   "outputs": [],
   "source": [
    "if __name__ == '__main__':\n",
    "    s = input()\n",
    "    s_split=[i for i in s]\n",
    "    for j,i in enumerate(s_split):\n",
    "        if i.isalnum():\n",
    "            print('True')\n",
    "            break\n",
    "        elif j==len(s_split)-1:\n",
    "            print('False')   \n",
    "    # if i.isalnum():\n",
    "    #         print('True')\n",
    "    #         break\n",
    "    # else \n",
    "    #         print('False')\n",
    "    for j,i in enumerate(s_split):\n",
    "        if i.isalpha():\n",
    "            print('True')\n",
    "            break\n",
    "        elif j==len(s_split)-1:\n",
    "            print('False')\n",
    "    for j,i in enumerate(s_split):\n",
    "        if i.isdigit():\n",
    "            print('True')\n",
    "            break\n",
    "        elif j==len(s_split)-1:\n",
    "            print('False')\n",
    "    for j,i in enumerate(s_split):\n",
    "        if i.islower():\n",
    "            print('True')\n",
    "            break\n",
    "        elif j==len(s_split)-1:\n",
    "            print('False')\n",
    "    for j,i in enumerate(s_split):\n",
    "        if i.isupper():\n",
    "            print('True')\n",
    "            break\n",
    "        elif j==len(s_split)-1:\n",
    "            print('False')\n"
   ]
  },
  {
   "cell_type": "markdown",
   "id": "192c84a9",
   "metadata": {},
   "source": [
    "#### Text Alignment"
   ]
  },
  {
   "cell_type": "code",
   "execution_count": null,
   "id": "a85d160a",
   "metadata": {},
   "outputs": [],
   "source": [
    "#Replace all ______ with rjust, ljust or center. \n",
    "\n",
    "thickness = int(input()) #This must be an odd number\n",
    "c = 'H'\n",
    "\n",
    "#Top Cone\n",
    "for i in range(thickness):\n",
    "    print((c*i).rjust(thickness-1)+c+(c*i).ljust(thickness-1))\n",
    "\n",
    " #Top Pillars\n",
    "for i in range(thickness+1):\n",
    "    print((c*thickness).center(thickness*2)+(c*thickness).center(thickness*6))\n",
    "\n",
    " #Middle Belt\n",
    "for i in range((thickness+1)//2):\n",
    "     print((c*thickness*5).center(thickness*6))    \n",
    "\n",
    " #Bottom Pillars\n",
    "for i in range(thickness+1):\n",
    "     print((c*thickness).center(thickness*2)+(c*thickness).center(thickness*6))    \n",
    "\n",
    " #Bottom Cone\n",
    "for i in range(thickness):\n",
    "    print(((c*(thickness-i-1)).rjust(thickness)+c+(c*(thickness-i-1)).ljust(thickness)).rjust(thickness*6))\n"
   ]
  },
  {
   "cell_type": "markdown",
   "id": "8060ed21",
   "metadata": {},
   "source": [
    "#### Text Wrap"
   ]
  },
  {
   "cell_type": "code",
   "execution_count": null,
   "id": "33343142",
   "metadata": {},
   "outputs": [],
   "source": [
    "\n",
    "\n",
    "def wrap(string, max_width):\n",
    "    l=textwrap.wrap(string,width=max_width)\n",
    "    s=''\n",
    "    for i in l:\n",
    "        s=s+i+'\\n'\n",
    "        \n",
    "    return s\n",
    "\n"
   ]
  },
  {
   "cell_type": "markdown",
   "id": "69f23e12",
   "metadata": {},
   "source": [
    "#### Designer Door Mat"
   ]
  },
  {
   "cell_type": "code",
   "execution_count": null,
   "id": "6a04db31",
   "metadata": {},
   "outputs": [],
   "source": [
    "# Enter your code here. Read input from STDIN. Print output to STDOUT\n",
    "N,M=input().split()\n",
    "N=int(N)\n",
    "M=int(M)\n",
    "\n",
    "thicknes=M\n",
    "a='|'\n",
    "b='.'\n",
    "for i in range(N):\n",
    "    x=''\n",
    "    if i <N//2:\n",
    "        for j in range(2*i+1):\n",
    "            x=x+b+a+b\n",
    "    elif i==N//2:\n",
    "        x='WELCOME'\n",
    "    else:\n",
    "        for j in range(2*(N-i)-1):\n",
    "            x=x+b+a+b\n",
    "    print(x.center(thicknes,'-'))\n"
   ]
  },
  {
   "cell_type": "markdown",
   "id": "f626b1d5",
   "metadata": {},
   "source": [
    "#### String Formatting"
   ]
  },
  {
   "cell_type": "code",
   "execution_count": null,
   "id": "5030a5fe",
   "metadata": {},
   "outputs": [],
   "source": [
    "def print_formatted(number):\n",
    "    for i in range(1,number+1):\n",
    "        space=len(str(bin(number))[2:])\n",
    "        #bin_space=(len(bin(number)[2:])-len(bin(i)[2:])+1)*' '\n",
    "        #hex_space=(len(bin(number)[2:])-len(hex(i)[2:])+1)*' '\n",
    "        #oct_space=(len(bin(number)[2:])-len(oct(i)[2:])+1)*' '\n",
    "        #int_space=' '\n",
    "        print(str(i).rjust(space,' ')+str(oct(i)[2:]).rjust(space+1,' ')+str(hex(i)[2:]).upper().rjust(space+1,' ')+str(bin(i)[2:]).rjust(space+1,' '))\n",
    "    # your code goes here\n",
    "\n"
   ]
  },
  {
   "cell_type": "markdown",
   "id": "44a00293",
   "metadata": {},
   "source": [
    "#### Alphabet Rangoli"
   ]
  },
  {
   "cell_type": "code",
   "execution_count": null,
   "id": "38926444",
   "metadata": {},
   "outputs": [],
   "source": [
    "def print_rangoli(size):\n",
    "    # your code goes here\n",
    "    l1=['a','b','c','d','e','f','g','h','i','j','k','l','m','n','o','p','q','r','s','t','u','v','w','x','y','z']\n",
    "\n",
    "    thickness=2*size+2*(size-1)-1\n",
    "    for i in range(2*size-1):\n",
    "        \n",
    "        if i < size-1:\n",
    "            s=[]\n",
    "            for j in range(i+1): ### pick up the unique characters\n",
    "                s.append(chr(97+size-1-j))\n",
    "            var=len(s)\n",
    "            for k in range(var-1): ### create the list of all the required characters\n",
    "                 s.append(s[var-k-2])\n",
    "           \n",
    "    \n",
    "            a=''\n",
    "            for l in s:  ### create the '-'+characters\n",
    "               a=a+l+'-'\n",
    "            print(a.center(thickness,'-')) \n",
    "        if i==size-1:  ### middle line\n",
    "            s=[]\n",
    "            for j in range(i+1):\n",
    "                s.append(chr(97+size-1-j))\n",
    "            var=len(s)\n",
    "            for k in range(var-1):\n",
    "                s.append(s[var-k-2])\n",
    "            a=''\n",
    "            for l in s:\n",
    "                a=a+l+'-'\n",
    "          \n",
    "            \n",
    "            print(a.strip('-'))\n",
    "        if i>size-1:\n",
    "            s=[]\n",
    "            for j in range(2*size-(i+1)): ### pick up the unique characters\n",
    "                s.append(chr(97+size-1-j))\n",
    "            var=len(s)\n",
    "            for k in range(var-1): ### create the list of all the required characters\n",
    "                s.append(s[var-k-2])\n",
    "            a=''\n",
    "            for l in s:  ### create the '-'+characters\n",
    "               a=a+l+'-'\n",
    "            print(a.center(thickness,'-')) \n"
   ]
  },
  {
   "cell_type": "markdown",
   "id": "174dcb85",
   "metadata": {},
   "source": [
    "#### Capitalize!"
   ]
  },
  {
   "cell_type": "code",
   "execution_count": null,
   "id": "63945102",
   "metadata": {},
   "outputs": [],
   "source": [
    "\n",
    "\n",
    "# Complete the solve function below.\n",
    "def solve(s):\n",
    "    ind=s.split()\n",
    "    list1=[]\n",
    "    counter=[]\n",
    "    k=0\n",
    "    for o in s:\n",
    "        \n",
    "        if o.isspace():\n",
    "            k=k+1\n",
    "        else:\n",
    "            if k>=1:\n",
    "                counter.append(k)\n",
    "            k=0\n",
    "    #print(counter)\n",
    "            \n",
    "    for j,i in enumerate(ind):\n",
    "        #print(j,i)\n",
    "        if i[0].isalpha():\n",
    "            s=''\n",
    "            for l,k in enumerate(i):\n",
    "                #print(l,k)\n",
    "                if l==0:\n",
    "                    s=s+k.upper()\n",
    "                else:\n",
    "                    s=s+k\n",
    "            list1.append(s)\n",
    "        else:\n",
    "            list1.append(i)\n",
    "    fin_str=''\n",
    "    for j,i in enumerate(list1):\n",
    "        if j<len(list1)-1:\n",
    "            fin_str=fin_str+i+' '*counter[j]\n",
    "        else:\n",
    "            fin_str=fin_str+i\n",
    "    return fin_str\n",
    "            \n"
   ]
  },
  {
   "cell_type": "markdown",
   "id": "88e63d5d",
   "metadata": {},
   "source": [
    "#### The Minion Game"
   ]
  },
  {
   "cell_type": "code",
   "execution_count": null,
   "id": "47ea570d",
   "metadata": {},
   "outputs": [],
   "source": [
    "def minion_game(string):\n",
    "    # your code goes here\n",
    "    vow=['A','E','I','O','U']\n",
    "    dic1={}\n",
    "    dic2={}\n",
    "    sum_c=0\n",
    "    sum_v=0\n",
    "    for j,i in enumerate(string):\n",
    "        try:\n",
    "            if vow.index(i)>=0:\n",
    "                sum_v=sum_v+len(string)-j\n",
    "        except:\n",
    "            sum_c=sum_c+len(string)-j\n",
    "    if sum_c>sum_v:\n",
    "        print('Stuart'+' '+str(sum_c))\n",
    "    elif sum_c==sum_v:\n",
    "         print('Draw')\n",
    "    else:\n",
    "         print('Kevin'+' '+str(sum_v))   \n",
    "    # for j,i in enumerate(string):\n",
    "\n",
    "    #     for k in range(j+1,len(string)+1):\n",
    "    #         try:                              ### starting case of vowel\n",
    "    #             if vow.index(i)>=0:\n",
    "    #                 sub_string=string[j:k]\n",
    "                   \n",
    "    #                 list_keys=list(dic2.keys())\n",
    "    #                 try:\n",
    "    #                     if list_keys.index(sub_string)>=0:\n",
    "    #                         count=dic2[sub_string]\n",
    "    #                         dic2[sub_string]=count+1\n",
    "    #                         #print(dic2)\n",
    "    #                 except:\n",
    "    #                         #print('no index')\n",
    "    #                         dic2[sub_string]=1\n",
    "    #                         #print(dic2)\n",
    "                    \n",
    "                    \n",
    "    #         except:                       \n",
    "    #                 sub_string=string[j:k]\n",
    "                   \n",
    "    #                 list_keys=list(dic1.keys())\n",
    "    #                 try:\n",
    "    #                     if list_keys.index(sub_string)>=0:\n",
    "    #                         count=dic1[sub_string]\n",
    "    #                         dic1[sub_string]=count+1\n",
    "    #                         #print(dic1)\n",
    "    #                 except:\n",
    "    #                         #print('no index')\n",
    "    #                         dic1[sub_string]=1\n",
    "    #                         #print(dic1)    \n",
    "    \n",
    "    # sum_c=0\n",
    "    # print(dic1,dic2)\n",
    "    # for i in dic1.keys():\n",
    "    #     sum_c=sum_c+dic1[i]\n",
    "    # sum_v=0\n",
    "    # for i in dic2.keys():\n",
    "    #     sum_v=sum_v+dic2[i]\n",
    "    # if sum_c>sum_v:\n",
    "    #     print('Stuart'+' '+str(sum_c))\n",
    "    # elif sum_c==sum_v:\n",
    "    #     print('Draw')\n",
    "    # else:\n",
    "    #     print('Kevin'+' '+str(sum_v))\n",
    "                \n",
    "            \n",
    "    \n",
    "\n"
   ]
  },
  {
   "cell_type": "markdown",
   "id": "31d2628d",
   "metadata": {},
   "source": [
    "#### Merge the Tools!"
   ]
  },
  {
   "cell_type": "code",
   "execution_count": null,
   "id": "af27e022",
   "metadata": {},
   "outputs": [],
   "source": [
    "def merge_the_tools(string, k):\n",
    "    # your code goes here\n",
    "    \n",
    "    len_sub=int(len(string)/k)\n",
    "    \n",
    "    \n",
    "    l_sub=[]\n",
    "    for i in range(len_sub):\n",
    "        l_sub.append(string[i*k:i*k+k])\n",
    "    ul_sub=[]\n",
    "    for j in l_sub:\n",
    "        \n",
    "        x=''\n",
    "        for k in j:\n",
    "            sub_set=set(x)\n",
    "            if k in sub_set:\n",
    "               continue\n",
    "            else:\n",
    "    \n",
    "               x=x+k\n",
    "        ul_sub.append(x)\n",
    "    for k in ul_sub:\n",
    "        print(k)\n",
    "                \n"
   ]
  },
  {
   "cell_type": "markdown",
   "id": "b90f9513",
   "metadata": {},
   "source": [
    "#### Introduction to Sets"
   ]
  },
  {
   "cell_type": "code",
   "execution_count": null,
   "id": "1eb538be",
   "metadata": {},
   "outputs": [],
   "source": [
    "def average(array):\n",
    "    # your code goes here\n",
    "   set1=set(array)\n",
    "   sum=0\n",
    "   for i in set1:\n",
    "     sum=sum+i\n",
    "   return sum/len(set1)\n"
   ]
  },
  {
   "cell_type": "markdown",
   "id": "97de5fb4",
   "metadata": {},
   "source": [
    "#### No Idea!"
   ]
  },
  {
   "cell_type": "code",
   "execution_count": null,
   "id": "3105c05b",
   "metadata": {},
   "outputs": [],
   "source": [
    "# Enter your code here. Read input from STDIN. Print output to STDOUT\n",
    "m,n= [int(x) for x in input().split()]\n",
    "array=[int(x) for x in input().split()]\n",
    "set_a=set()\n",
    "for x in input().split():\n",
    "    set_a.add(int(x))\n",
    "set_b=set()\n",
    "for x in input().split():\n",
    "    set_b.add(int(x))\n",
    "happiness=0  \n",
    "for i in array:\n",
    "   if i in set_a:\n",
    "        happiness=happiness+1\n",
    "   if i in set_b:\n",
    "        happiness=happiness-1\n",
    "print(happiness)\n",
    "    \n"
   ]
  },
  {
   "cell_type": "markdown",
   "id": "38a03ab6",
   "metadata": {},
   "source": [
    "#### Symmetric Difference"
   ]
  },
  {
   "cell_type": "code",
   "execution_count": null,
   "id": "842d5146",
   "metadata": {},
   "outputs": [],
   "source": [
    "# Enter your code here. Read input from STDIN. Print output to STDOUT\n",
    "M=int(input())\n",
    "set_a=set(list(map(int,input().split())))\n",
    "N=int(input())\n",
    "set_b=set(list(map(int,input().split())))\n",
    "l_un=set_a.intersection(set_b)\n",
    "sym_a=set_a.difference(set(l_un))\n",
    "\n",
    "sym_b=set_b.difference(set(l_un))\n",
    "sym_c=list(sym_a.union(sym_b))\n",
    "sym_c.sort()\n",
    "for i in sym_c:\n",
    "    print(i)\n",
    "\n"
   ]
  },
  {
   "cell_type": "markdown",
   "id": "a2909526",
   "metadata": {},
   "source": [
    "#### Set .add() "
   ]
  },
  {
   "cell_type": "code",
   "execution_count": null,
   "id": "04195241",
   "metadata": {},
   "outputs": [],
   "source": [
    "# Enter your code here. Read input from STDIN. Print output to STDOUT\n",
    "N=int(input())\n",
    "stamps=set()\n",
    "\n",
    "for i in range(N):\n",
    "    stamps.add(input())\n",
    "print(len(stamps))\n"
   ]
  },
  {
   "cell_type": "markdown",
   "id": "2c116856",
   "metadata": {},
   "source": [
    "#### Set .discard(), .remove() & .pop()"
   ]
  },
  {
   "cell_type": "code",
   "execution_count": null,
   "id": "4287b444",
   "metadata": {},
   "outputs": [],
   "source": [
    "n = int(input())\n",
    "s = set(map(int, input().split()))\n",
    "N=int(input())\n",
    "for i in range(N):\n",
    "    x=list(input().split())\n",
    "    if x[0]=='pop':\n",
    "        s.pop()\n",
    "    elif x[0]=='remove':\n",
    "        s.remove(int(x[1]))\n",
    "    else:\n",
    "        s.discard(int(x[1]))\n",
    "sum=0\n",
    "for i in s:\n",
    "    sum=sum+i\n",
    "print(sum)\n"
   ]
  },
  {
   "cell_type": "markdown",
   "id": "ea2cbedb",
   "metadata": {},
   "source": [
    "#### Set .union() Operation"
   ]
  },
  {
   "cell_type": "code",
   "execution_count": null,
   "id": "41116e63",
   "metadata": {},
   "outputs": [],
   "source": [
    "# Enter your code here. Read input from STDIN. Print output to STDOUT\n",
    "n=int(input())\n",
    "set_n=set(list(map(int,input().split())))\n",
    "b=int(input())\n",
    "set_b=set(list(map(int,input().split())))\n",
    "union=set_n|set_b\n",
    "print(len(union))\n"
   ]
  },
  {
   "cell_type": "markdown",
   "id": "43d244e4",
   "metadata": {},
   "source": [
    "#### Set .intersection() Operation"
   ]
  },
  {
   "cell_type": "code",
   "execution_count": null,
   "id": "96ccc5b0",
   "metadata": {},
   "outputs": [],
   "source": [
    "# Enter your code here. Read input from STDIN. Print output to STDOUT\n",
    "n=int(input())\n",
    "set_n=set(list(map(int,input().split())))\n",
    "b=int(input())\n",
    "set_b=set(list(map(int,input().split())))\n",
    "union=set_n & set_b\n",
    "print(len(union))\n"
   ]
  },
  {
   "cell_type": "markdown",
   "id": "205a05a4",
   "metadata": {},
   "source": [
    "#### Set .difference() Operation"
   ]
  },
  {
   "cell_type": "code",
   "execution_count": null,
   "id": "e5870dad",
   "metadata": {},
   "outputs": [],
   "source": [
    "# Enter your code here. Read input from STDIN. Print output to STDOUT\n",
    "n=int(input())\n",
    "set_n=set(list(map(int,input().split())))\n",
    "b=int(input())\n",
    "set_b=set(list(map(int,input().split())))\n",
    "union=set_n-set_b\n",
    "print(len(union))\n"
   ]
  },
  {
   "cell_type": "markdown",
   "id": "5b45b123",
   "metadata": {},
   "source": [
    "#### Set .symmetric_difference() Operation"
   ]
  },
  {
   "cell_type": "code",
   "execution_count": null,
   "id": "a0bcf553",
   "metadata": {},
   "outputs": [],
   "source": [
    "# Enter your code here. Read input from STDIN. Print output to STDOUT\n",
    "n=int(input())\n",
    "set_n=set(list(map(int,input().split())))\n",
    "b=int(input())\n",
    "set_b=set(list(map(int,input().split())))\n",
    "union=set_n|set_b\n",
    "inter=set_n & set_b\n",
    "print(len(union.difference(inter)))\n"
   ]
  },
  {
   "cell_type": "markdown",
   "id": "fa22d6e7",
   "metadata": {},
   "source": [
    "#### Set Mutations"
   ]
  },
  {
   "cell_type": "code",
   "execution_count": null,
   "id": "2f506b0a",
   "metadata": {},
   "outputs": [],
   "source": [
    "# Enter your code here. Read input from STDIN. Print output to STDOUT\n",
    "N_a=int(input())\n",
    "set_a=set(list(map(int,input().split())))\n",
    "N_os=int(input())\n",
    "for i in range(N_os):\n",
    "    cmd,len_os=input().split()\n",
    "    set_os=set(list(map(int,input().split())))\n",
    "    if cmd=='intersection_update':\n",
    "        set_a.intersection_update(set_os)\n",
    "    elif cmd=='symmetric_difference_update':\n",
    "        set_a.symmetric_difference_update(set_os)\n",
    "    elif cmd=='update':\n",
    "        set_a.update(set_os)\n",
    "    elif cmd=='difference_update':\n",
    "        set_a.difference_update(set_os)\n",
    "    \n",
    "sum=0\n",
    "for i in set_a:\n",
    "    sum=sum+i\n",
    "print(sum)\n"
   ]
  },
  {
   "cell_type": "markdown",
   "id": "cf756c84",
   "metadata": {},
   "source": [
    "#### The Captain's Room "
   ]
  },
  {
   "cell_type": "code",
   "execution_count": null,
   "id": "b707745c",
   "metadata": {},
   "outputs": [],
   "source": [
    "# Enter your code here. Read input from STDIN. Print output to STDOUT\n",
    "M=int(input())\n",
    "N=list(map(int,input().split()))\n",
    "set_N=set(N)\n",
    "var=sum(set_N)*M-sum(N)\n",
    "print(var//(M-1))\n"
   ]
  },
  {
   "cell_type": "markdown",
   "id": "753562a0",
   "metadata": {},
   "source": [
    "#### Check Subset"
   ]
  },
  {
   "cell_type": "code",
   "execution_count": null,
   "id": "d486a69b",
   "metadata": {},
   "outputs": [],
   "source": [
    "# Enter your code here. Read input from STDIN. Print output to STDOUT\n",
    "N_test=int(input())\n",
    "for i in range(N_test):\n",
    "    m1=int(input())\n",
    "    set_a=set(list(map(int,input().split())))\n",
    "    m2=int(input())\n",
    "    set_b=set(list(map(int,input().split())))\n",
    "    if(len(set_a & set_b)==m1):\n",
    "        print('True')\n",
    "    else:\n",
    "        print('False')\n",
    "    \n"
   ]
  },
  {
   "cell_type": "markdown",
   "id": "afb791be",
   "metadata": {},
   "source": [
    "#### Check Strict Superset"
   ]
  },
  {
   "cell_type": "code",
   "execution_count": null,
   "id": "dccb0340",
   "metadata": {},
   "outputs": [],
   "source": [
    "# Enter your code here. Read input from STDIN. Print output to STDOUT\n",
    "set_a=set(list(map(int,input().split())))\n",
    "N_os=int(input())\n",
    "count=0\n",
    "for i in range(N_os):\n",
    "    set_os=set(list(map(int,input().split())))\n",
    "    inter=set_os & set_a\n",
    "    if (len(inter)==len(set_os)) and (len(set_a & inter)>0) :\n",
    "        count=count+1\n",
    "if count==N_os:\n",
    "    print('True')\n",
    "else:\n",
    "    print('False')\n"
   ]
  },
  {
   "cell_type": "markdown",
   "id": "ee9b12e8",
   "metadata": {},
   "source": [
    "#### collections.Counter()"
   ]
  },
  {
   "cell_type": "code",
   "execution_count": null,
   "id": "271616ff",
   "metadata": {},
   "outputs": [],
   "source": [
    "# Enter your code here. Read input from STDIN. Print output to STDOUT\n",
    "from collections import Counter\n",
    "N_shoes=int(input())\n",
    "size=list(map(int,input().split()))\n",
    "c1=Counter(size)\n",
    "N_customer=int(input())\n",
    "earned=0\n",
    "for i in range(N_customer):\n",
    "    custom=list(map(int,input().split()))\n",
    "    \n",
    "    \n",
    "    if (custom[0] in set(size)) and (c1[custom[0]]>0):\n",
    "        earned=earned+custom[1]\n",
    "        c1[custom[0]]=c1[custom[0]]-1\n",
    "print(earned)\n"
   ]
  },
  {
   "cell_type": "markdown",
   "id": "39433b27",
   "metadata": {},
   "source": [
    "#### DefaultDict Tutorial"
   ]
  },
  {
   "cell_type": "code",
   "execution_count": null,
   "id": "0813526d",
   "metadata": {},
   "outputs": [],
   "source": [
    "# Enter your code here. Read input from STDIN. Print output to STDOUT\n",
    "from collections import defaultdict\n",
    "m,n=map(int,input().split())\n",
    "d=defaultdict(list)\n",
    "for i in range(m):\n",
    "    d[input()].append(i+1)   \n",
    "\n",
    "\n",
    "for j in range(n):\n",
    "    k=input()\n",
    "    if k in set(d.keys()):\n",
    "        print(*d[k])\n",
    "    else:\n",
    "        print(-1)\n"
   ]
  },
  {
   "cell_type": "markdown",
   "id": "d6426713",
   "metadata": {},
   "source": [
    "#### Collections.namedtuple()"
   ]
  },
  {
   "cell_type": "code",
   "execution_count": null,
   "id": "326bfebe",
   "metadata": {},
   "outputs": [],
   "source": [
    "# Enter your code here. Read input from STDIN. Print output to STDOUT\n",
    "from collections import namedtuple\n",
    "Student=namedtuple('Student','ID, MARKS, CLASS, NAME')\n",
    "n_student=int(input())\n",
    "l=input().split()\n",
    "sum1=0\n",
    "j=l.index('MARKS')\n",
    "for i in range(n_student):\n",
    "    sum1=sum1+int(input().split()[j])\n",
    "print(sum1/n_student)\n"
   ]
  },
  {
   "cell_type": "markdown",
   "id": "ebdb446d",
   "metadata": {},
   "source": [
    "#### Collections.namedtuple()"
   ]
  },
  {
   "cell_type": "code",
   "execution_count": null,
   "id": "d5038cea",
   "metadata": {},
   "outputs": [],
   "source": [
    "# Enter your code here. Read input from STDIN. Print output to STDOUT\n",
    "from collections import namedtuple\n",
    "n_student=int(input())\n",
    "Student=namedtuple('Student',input().strip().split())\n",
    "print(sum(float(Student(*input().strip().split()).MARKS) for _ in range(n_student))/n_student)\n"
   ]
  },
  {
   "cell_type": "markdown",
   "id": "9a87a369",
   "metadata": {},
   "source": [
    "#### Collections.OrderedDict()"
   ]
  },
  {
   "cell_type": "code",
   "execution_count": null,
   "id": "c9a03269",
   "metadata": {},
   "outputs": [],
   "source": [
    "# Enter your code here. Read input from STDIN. Print output to STDOUT\n",
    "from collections import OrderedDict\n",
    "n_items=int(input())\n",
    "od=OrderedDict()\n",
    "for i in range(n_items):\n",
    "    m=input().split()\n",
    "    if str(' '.join(m[0:-1])) in set(od.keys()):\n",
    "        od[' '.join(m[0:-1])]=od[' '.join(m[0:-1])]+int(m[-1])\n",
    "    else:\n",
    "        od[' '.join(m[0:-1])]=int(m[-1])\n",
    "for j in od:\n",
    "    print(j,od[j])\n"
   ]
  },
  {
   "cell_type": "markdown",
   "id": "c72d22bb",
   "metadata": {},
   "source": [
    "#### Word Order"
   ]
  },
  {
   "cell_type": "code",
   "execution_count": null,
   "id": "afcf495f",
   "metadata": {},
   "outputs": [],
   "source": [
    "# Enter your code here. Read input from STDIN. Print output to STDOUT\n",
    "from collections import OrderedDict\n",
    "M=int(input())\n",
    "od=OrderedDict()\n",
    "for i in range(M):\n",
    "    m=input()\n",
    "    if m in od.keys():\n",
    "        od[m]=od[m]+1\n",
    "    else:\n",
    "        od[m]=1\n",
    "print(len(od.keys()))\n",
    "print(*od.values())\n"
   ]
  },
  {
   "cell_type": "markdown",
   "id": "5a1bb195",
   "metadata": {},
   "source": [
    "#### Collections.deque()"
   ]
  },
  {
   "cell_type": "code",
   "execution_count": null,
   "id": "df7493d3",
   "metadata": {},
   "outputs": [],
   "source": [
    "# Enter your code here. Read input from STDIN. Print output to STDOUT\n",
    "from collections import deque\n",
    "d=deque()\n",
    "M=int(input())\n",
    "for i in range(M):\n",
    "    cmd=input().split()\n",
    "    if cmd[0]=='append':\n",
    "        d.append(cmd[1])\n",
    "    elif cmd[0]=='appendleft':\n",
    "        d.appendleft(cmd[1])\n",
    "    elif cmd[0]=='pop':\n",
    "        d.pop()\n",
    "    else:\n",
    "        d.popleft()\n",
    "print(*d)\n",
    "        \n"
   ]
  },
  {
   "cell_type": "markdown",
   "id": "da779ea6",
   "metadata": {},
   "source": [
    "#### Company Logo"
   ]
  },
  {
   "cell_type": "code",
   "execution_count": null,
   "id": "a31e7540",
   "metadata": {},
   "outputs": [],
   "source": [
    "#!/bin/python3\n",
    "\n",
    "import math\n",
    "import os\n",
    "import random\n",
    "import re\n",
    "import sys\n",
    "\n",
    "\n",
    "\n",
    "if __name__ == '__main__':\n",
    "    from collections import Counter\n",
    "    s = input()\n",
    "    l=list(s)\n",
    "    l.sort()\n",
    "    c1=Counter(l)\n",
    "    d=c1.most_common(3)\n",
    "    for i in range(3):\n",
    "        print(d[i][0],d[i][1])\n",
    "    \n",
    "    # d=c1.most_common(3)\n",
    "    # value=set([d[0][1], d[1][1] ,d[2][1]])\n",
    "    # char1=[d[0][0], d[1][0] ,d[2][0]]\n",
    "    # char2=[d[0][0], d[1][0] ,d[2][0]]\n",
    "    \n",
    "    # if len(value)==3:\n",
    "    #     for i in range(3):\n",
    "    #         print(d[i][0],d[i][1])\n",
    "    # elif len(value)==1:\n",
    "    #     char2.sort()\n",
    "    #     for i in char2:\n",
    "    #         print(i,d[char1.index(i)][1])\n",
    "    # elif len(value)==2:\n",
    "    #       if d[0][1]==d[1][1]:\n",
    "    #           if d[0][0]> d[1][0]:\n",
    "    #             print(d[1][0],d[1][1])\n",
    "    #             print(d[0][0],d[0][1])\n",
    "    #             print(d[2][0],d[2][1])\n",
    "    #           else:\n",
    "    #             for i in range(3):\n",
    "    #                 print(d[i][0],d[i][1])\n",
    "    #       if d[1][1]==d[2][1]:\n",
    "    #           if d[1][0]> d[2][0]:\n",
    "    #             print(d[0][0],d[0][1])\n",
    "    #             print(d[2][0],d[2][1])\n",
    "    #             print(d[1][0],d[1][1])\n",
    "                \n",
    "    #           else:\n",
    "    #             for i in range(3):\n",
    "    #                 print(d[i][0],d[i][1])\n",
    "            \n",
    "        \n",
    "        \n",
    "    \n",
    "    \n",
    "        \n",
    "        \n",
    "    \n"
   ]
  },
  {
   "cell_type": "markdown",
   "id": "215a0e37",
   "metadata": {},
   "source": [
    "#### Piling Up!"
   ]
  },
  {
   "cell_type": "code",
   "execution_count": null,
   "id": "98f89c6c",
   "metadata": {},
   "outputs": [],
   "source": [
    "# Enter your code here. Read input from STDIN. Print output to STDOUT\n",
    "N_test=int(input())\n",
    "for i in range(N_test):\n",
    "    test_n_blocks=int(input())\n",
    "    x=list(map(int,input().split()))\n",
    "    if (max(x)==x[0]) or (max(x)==x[-1]):\n",
    "        print('Yes')\n",
    "    else:\n",
    "        print('No')\n"
   ]
  },
  {
   "cell_type": "markdown",
   "id": "1413d7a0",
   "metadata": {},
   "source": [
    "#### Calendar Module"
   ]
  },
  {
   "cell_type": "code",
   "execution_count": null,
   "id": "a2fd8b0c",
   "metadata": {},
   "outputs": [],
   "source": [
    "# Enter your code here. Read input from STDIN. Print output to STDOUT\n",
    "import calendar\n",
    "#print(calendar.TextCalendar(0).formatyear(2015))\n",
    "y=calendar.day_name\n",
    "m=list(map(int,input().split()))\n",
    "\n",
    "print(str(y[calendar.weekday(m[2],m[0],m[1])]).upper())\n"
   ]
  },
  {
   "cell_type": "markdown",
   "id": "7481faf3",
   "metadata": {},
   "source": [
    "#### Time Delta"
   ]
  },
  {
   "cell_type": "code",
   "execution_count": null,
   "id": "40f05f23",
   "metadata": {},
   "outputs": [],
   "source": [
    "#!/bin/python3\n",
    "\n",
    "import math\n",
    "import os\n",
    "import random\n",
    "import re\n",
    "import sys\n",
    "\n",
    "# Complete the time_delta function below.\n",
    "def time_delta(t1, t2):\n",
    "  import datetime\n",
    "  t1=t1.split()\n",
    "  t2=t2.split()\n",
    "  y=['Jan','Feb','Mar','Apr','May','Jun','Jul','Aug','Sep','Oct','Nov','Dec']\n",
    "  print(str(t1[5]))\n",
    "  dt1 = datetime.datetime(int(t1[3]),y.index(t1[2])+1,int(t1[1]),int(t1[4][0:2]),int(t1[4][3:5]),int(t1[4][6:8]))\n",
    "  \n",
    "  #dt1_gmt=datetime.datetime(int(t1[3]),y.index(t1[2])+1,int(t1[1]),int(t1[5][1:3]),int(t1[5][3:5]))\n",
    "  if t1[5][0]=='-':\n",
    "    dt1=dt1+datetime.timedelta(hours=int(t1[5][1:3]), minutes=int(t1[5][3:5]))\n",
    "   \n",
    "  else:\n",
    "   \n",
    "    dt1=dt1+datetime.timedelta(hours=-int(t1[5][1:3]),minutes=-int(t1[5][3:5]))\n",
    " \n",
    "  dt2 = datetime.datetime(int(t2[3]),y.index(t2[2])+1,int(t2[1]),int(t2[4][0:2]),int(t2[4][3:5]),int(t2[4][6:8]))\n",
    "  if t2[5][0]=='-':\n",
    "    \n",
    "    dt2=dt2+datetime.timedelta(hours=int(t2[5][1:3]),minutes=int(t2[5][3:5]))\n",
    "   \n",
    "  else:\n",
    "    dt2=dt2+datetime.timedelta(hours=-int(t2[5][1:3]),minutes=-int(t2[5][3:5]))\n",
    "  print(dt2)\n",
    "  #dt2_gmt=datetime.datetime(int(t1[3]),y.index(t1[2])+1,int(t1[1]),int(t2[5][1:3]),int(t2[5][3:5]))\n",
    "  time_diff=dt1-dt2\n",
    "  print(time_diff)\n",
    "  tsecs=time_diff.total_seconds()\n",
    "  \n",
    "  #time_diff_gmt=dt1_gmt-dt2_gmt\n",
    "  #tsecs_gmt=time_diff_gmt.total_seconds()\n",
    "  \n",
    "#   gmt_tsecs=((int(t1[5])-int(t2[5]))//100)*3600+((int(t1[5])-int(t2[5]))%100)*60\n",
    "  \n",
    "#   total_sec=tsecs-tsecs_gmt\n",
    "  return str(abs(int(tsecs)))\n",
    "\n",
    "if __name__ == '__main__':\n",
    "    fptr = open(os.environ['OUTPUT_PATH'], 'w')\n",
    "\n",
    "    t = int(input())\n",
    "\n",
    "    for t_itr in range(t):\n",
    "        t1 = input()\n",
    "\n",
    "        t2 = input()\n",
    "\n",
    "        delta = time_delta(t1, t2)\n",
    "\n",
    "        fptr.write(delta + '\\n')\n",
    "\n",
    "    fptr.close()\n"
   ]
  },
  {
   "cell_type": "markdown",
   "id": "7a9dd174",
   "metadata": {},
   "source": [
    "#### Exceptions"
   ]
  },
  {
   "cell_type": "code",
   "execution_count": null,
   "id": "22f3b214",
   "metadata": {},
   "outputs": [],
   "source": [
    "# Enter your code here. Read input from STDIN. Print output to STDOUT\n",
    "test_cases=int(input())\n",
    "for i in range(test_cases):\n",
    "    a,b=input().split()\n",
    "    try:\n",
    "        print(int(a)//int(b))\n",
    "    except ZeroDivisionError as e:\n",
    "        print('Error Code:'+' integer division or modulo by zero')\n",
    "    except ValueError as e:\n",
    "        print('Error Code:',e)\n"
   ]
  },
  {
   "cell_type": "markdown",
   "id": "aa018bb4",
   "metadata": {},
   "source": [
    "#### Zipped!"
   ]
  },
  {
   "cell_type": "code",
   "execution_count": null,
   "id": "b9226c82",
   "metadata": {},
   "outputs": [],
   "source": [
    "# Enter your code here. Read input from STDIN. Print output to STDOUT\n",
    "N_stud,N_sub=map(int,input().split())\n",
    "l_sub=[]\n",
    "for i in range(N_sub):\n",
    "    l_sub.append(list(map(float,input().split())))\n",
    "z=zip(*l_sub)\n",
    "for i in z:\n",
    "    print(sum(i)/N_sub)\n",
    "\n"
   ]
  },
  {
   "cell_type": "markdown",
   "id": "3254a444",
   "metadata": {},
   "source": [
    "#### Athlete Sort"
   ]
  },
  {
   "cell_type": "code",
   "execution_count": null,
   "id": "1e5a2741",
   "metadata": {},
   "outputs": [],
   "source": [
    "#!/bin/python3\n",
    "\n",
    "import math\n",
    "import os\n",
    "import random\n",
    "import re\n",
    "import sys\n",
    "\n",
    "\n",
    "\n",
    "if __name__ == '__main__':\n",
    "    from collections import OrderedDict\n",
    "    nm = input().split()\n",
    "\n",
    "    n = int(nm[0])\n",
    "\n",
    "    m = int(nm[1])\n",
    "\n",
    "    arr = []\n",
    "\n",
    "    for _ in range(n):\n",
    "        arr.append(list(map(int, input().rstrip().split())))\n",
    "\n",
    "    k = int(input())\n",
    "\n",
    "    z=zip(*arr)\n",
    "    l1=list(z)\n",
    "    #print(arr,l1[k])\n",
    "    def sorting(l):\n",
    "        index=[]\n",
    "        sortd=[]\n",
    "        for i in range(len(l)):\n",
    "            sortd.append(min(l))\n",
    "            index.append(l.index(min(l)))\n",
    "            l[l.index(min(l))]=1000000000\n",
    "        return index,sortd\n",
    "    x,y=sorting(list(l1[k]))\n",
    "    #print(x,y)\n",
    "    l2=[]\n",
    "    for i in range(m):\n",
    "        l3=[]\n",
    "        if i!=k:\n",
    "            for j in range(len(x)):\n",
    "                l3.append(list(l1[i])[x[j]])\n",
    "            l2.append(l3)\n",
    "        else:\n",
    "            l2.append(y)\n",
    "                \n",
    "        \n",
    "        \n",
    "    #print(l2)\n",
    "    for i in range(n):\n",
    "        s=''\n",
    "        for j in range(m):\n",
    "            s=s+' '+str(l2[j][i])\n",
    "        print(s.rstrip()[1:])\n",
    "        \n",
    "\n",
    "    \n"
   ]
  },
  {
   "cell_type": "markdown",
   "id": "c673f18b",
   "metadata": {},
   "source": [
    "#### ginortS"
   ]
  },
  {
   "cell_type": "code",
   "execution_count": null,
   "id": "75e6baac",
   "metadata": {},
   "outputs": [],
   "source": [
    "# Enter your code here. Read input from STDIN. Print output to STDOUT\n",
    "s=input()\n",
    "char=[]\n",
    "number=[]\n",
    "for i in s:\n",
    "   if i.isalpha():\n",
    "     char.append(i)\n",
    "   if i.isnumeric():\n",
    "     number.append(int(i))\n",
    "char.sort()\n",
    "char_lower=[]\n",
    "char_upper=[]\n",
    "for i in char:\n",
    "    if i.isupper():\n",
    "    \n",
    "        char_upper.append(ord(i))\n",
    "    else:\n",
    "        char_lower.append(ord(i))\n",
    "char_upper.sort()\n",
    "char_lower.sort() \n",
    "number.sort()\n",
    "number_odd=[]\n",
    "number_even=[]\n",
    "for i in number:\n",
    "    if int(i%2)==0:\n",
    "    \n",
    "        number_even.append(i)\n",
    "    else:\n",
    "        number_odd.append(i)\n",
    "s=''\n",
    "for j in char_lower:\n",
    "    s=s+chr(j)\n",
    "for i in char_upper :\n",
    "    s=s+chr(i)\n",
    "\n",
    "for k in number_odd:\n",
    "    s=s+str(k)\n",
    "for l in number_even:\n",
    "    s=s+str(l)\n",
    "print(s)\n"
   ]
  },
  {
   "cell_type": "markdown",
   "id": "fbbc1790",
   "metadata": {},
   "source": [
    "#### Detect Floating Point Number"
   ]
  },
  {
   "cell_type": "code",
   "execution_count": null,
   "id": "65369e33",
   "metadata": {},
   "outputs": [],
   "source": [
    "# Enter your code here. Read input from STDIN. Print output to STDOUT\n",
    "import re\n",
    "N=int(input())\n",
    "for i in range(N):\n",
    "    test_case=input()\n",
    "    try:\n",
    "        f_test=float(test_case)\n",
    "        a=False\n",
    "        b=False\n",
    "        if bool(re.search(r'\\.', test_case)) and not(test_case[-1]=='.'):\n",
    "                a=bool(re.search(r\"\\+\",test_case))\n",
    "                b=bool(re.search(r'\\-',test_case))\n",
    "                if (a and not(b)) or (not(a) and b):\n",
    "                    print('True')\n",
    "                elif not(a) and not(b):\n",
    "                    print(\"True\")\n",
    "        else:\n",
    "            print('False')            \n",
    "        \n",
    "    except:\n",
    "         print('False')\n"
   ]
  },
  {
   "cell_type": "markdown",
   "id": "83c94859",
   "metadata": {},
   "source": [
    "#### Map and Lambda Function"
   ]
  },
  {
   "cell_type": "code",
   "execution_count": null,
   "id": "eb8789e7",
   "metadata": {},
   "outputs": [],
   "source": [
    "cube = lambda x:x*x*x # complete the lambda function \n",
    "\n",
    "def fibonacci(n):\n",
    "    # return a list of fibonacci numbers\n",
    "    \n",
    "    if n>1:\n",
    "        l_fb=[0,1]\n",
    "        for i in range(n-2):\n",
    "            \n",
    "                l_fb.append(l_fb[i]+l_fb[i+1])\n",
    "    elif n==0:\n",
    "            l_fb=[]\n",
    "    elif n==1:\n",
    "            l_fb=[0]\n",
    "        \n",
    "          \n",
    "    return l_fb\n"
   ]
  },
  {
   "cell_type": "markdown",
   "id": "6be68df8",
   "metadata": {},
   "source": [
    "#### Re.split()"
   ]
  },
  {
   "cell_type": "code",
   "execution_count": null,
   "id": "cc021d7e",
   "metadata": {},
   "outputs": [],
   "source": [
    "regex_pattern = r\"\\.|\\,|\\...\"\t# Do not delete 'r'.\n",
    "\n",
    "\n",
    "\n"
   ]
  },
  {
   "cell_type": "markdown",
   "id": "54786f99",
   "metadata": {},
   "source": [
    "#### Group(), Groups() & Groupdict()"
   ]
  },
  {
   "cell_type": "code",
   "execution_count": null,
   "id": "fdb3c8cc",
   "metadata": {},
   "outputs": [],
   "source": [
    "# Enter your code here. Read input from STDIN. Print output to STDOUT\n",
    "import re\n",
    "in1=input()\n",
    "m=re.search(r'([a-z0-9])\\1',in1)\n",
    "if m!=None:\n",
    "    print(m.group(0)[0])\n",
    "else:\n",
    "    print(-1)\n"
   ]
  },
  {
   "cell_type": "markdown",
   "id": "773bc20d",
   "metadata": {},
   "source": [
    "#### Re.findall() & Re.finditer()"
   ]
  },
  {
   "cell_type": "code",
   "execution_count": null,
   "id": "e2b73cbb",
   "metadata": {},
   "outputs": [],
   "source": [
    "# Enter your code here. Read input from STDIN. Print output to STDOUT\n",
    "import re\n",
    "\n",
    "in1=input()\n",
    "m=re.findall(r'(?<=[^aAeEiIoOuU])[aAeEiIoOuU]{2,100}(?=[^aAeEiIoOuU])',in1)\n",
    "if m!=[]:\n",
    "    for i in m:\n",
    "        print(i)\n",
    "else:\n",
    "        print(-1)\n"
   ]
  },
  {
   "cell_type": "markdown",
   "id": "d9d11134",
   "metadata": {},
   "source": [
    "#### Re.start() & Re.end()"
   ]
  },
  {
   "cell_type": "code",
   "execution_count": null,
   "id": "b13b6884",
   "metadata": {},
   "outputs": [],
   "source": [
    "# Enter your code here. Read input from STDIN. Print output to STDOUT\n",
    "import re\n",
    "in1=input()\n",
    "in2=input()\n",
    "i=0\n",
    "j=0\n",
    "\n",
    "while j<len(in1)-1:\n",
    "    #print(in1[j:])\n",
    "    \n",
    "    m=re.search(r''+in2+'{1}',in1[j:])\n",
    "    if (m!=None) and (j>=0):\n",
    "        if (len(in2)>1) :\n",
    "\n",
    "                print((m.start()+j,m.end()-1+j))\n",
    "                i=m.end()-1\n",
    "                j=j+i\n",
    "                #print(j)\n",
    "                \n",
    "        \n",
    "        elif len(in2)==1:\n",
    "            \n",
    "                print((m.start()+j,m.end()-1+j))\n",
    "                i=m.end()\n",
    "                j=j+i\n",
    "                #print(j)\n",
    "                \n",
    "    elif m==None:\n",
    "        if j==0:\n",
    "            print((-1,-1))\n",
    "            j=len(in1)\n",
    "        else:\n",
    "            j=len(in1)\n",
    "            \n"
   ]
  },
  {
   "cell_type": "markdown",
   "id": "d8c5306b",
   "metadata": {},
   "source": [
    "#### Regex Substitution"
   ]
  },
  {
   "cell_type": "code",
   "execution_count": null,
   "id": "cabb6844",
   "metadata": {},
   "outputs": [],
   "source": [
    "# Enter your code here. Read input from STDIN. Print output to STDOUT\n",
    "import re\n",
    "N=int(input())\n",
    "def correct(match):\n",
    "    if match.group(0)=='&&':\n",
    "        return 'and'\n",
    "    else:\n",
    "        return 'or'\n",
    "for i in range(N):\n",
    "    in1=input()\n",
    "    print(re.sub(r'(?<=\\s)(&&)(?=\\s)|(?<=\\s)\\|\\|(?=\\s)',correct,in1))\n",
    "    \n"
   ]
  },
  {
   "cell_type": "markdown",
   "id": "bb5907f9",
   "metadata": {},
   "source": [
    "#### Validating Roman Numerals"
   ]
  },
  {
   "cell_type": "code",
   "execution_count": null,
   "id": "56f14da4",
   "metadata": {},
   "outputs": [],
   "source": [
    "regex_pattern = r\"M{0,3}(CM|CD|D?C{0,3})(C|X{0,3}|XL|LX{0,3}|XC)(I{0,3}|IV|VI{0,3}|IX)$\"\t# Do not delete 'r'.\n",
    "import re\n",
    "\n"
   ]
  },
  {
   "cell_type": "markdown",
   "id": "fd440b27",
   "metadata": {},
   "source": [
    "#### Validating phone numbers"
   ]
  },
  {
   "cell_type": "code",
   "execution_count": null,
   "id": "6fed9e58",
   "metadata": {},
   "outputs": [],
   "source": [
    "# Enter your code here. Read input from STDIN. Print output to STDOUT\n",
    "n=int(input())\n",
    "import re\n",
    "for _ in range(n):\n",
    "    in1=input()\n",
    "    if len(in1)==10:\n",
    "        regex=r'[7|8|9][0-9]{9}'\n",
    "        if bool(re.match(regex,in1)):\n",
    "            print('YES')\n",
    "        else:\n",
    "            print('NO')\n",
    "    else:\n",
    "            print('NO')\n"
   ]
  },
  {
   "cell_type": "markdown",
   "id": "3095573d",
   "metadata": {},
   "source": [
    "#### Validating and Parsing Email Addresses"
   ]
  },
  {
   "cell_type": "code",
   "execution_count": null,
   "id": "b186a718",
   "metadata": {},
   "outputs": [],
   "source": [
    "# Enter your code here. Read input from STDIN. Print output to STDOUT\n",
    "n=int(input())\n",
    "import re\n",
    "x=[]\n",
    "y=[]\n",
    "for _ in range(n):\n",
    "  x,y=input().split()  \n",
    "  regex=r'\\<[a-zA-Z][a-zA-Z0-9\\-\\.\\_]+\\@[a-zA-Z]+\\.[a-zA-Z]{1,3}\\>'\n",
    "  if bool(re.match(regex,y)):\n",
    "    print(x,y)\n"
   ]
  },
  {
   "cell_type": "markdown",
   "id": "d963f2f3",
   "metadata": {},
   "source": [
    "#### Hex Color Code"
   ]
  },
  {
   "cell_type": "code",
   "execution_count": null,
   "id": "2e54adda",
   "metadata": {},
   "outputs": [],
   "source": [
    "# Enter your code here. Read input from STDIN. Print output to STDOUT\n",
    "import re\n",
    "n=int(input())\n",
    "j=0\n",
    "k=0\n",
    "s=''\n",
    "for i in range(n):\n",
    "    in1=input()\n",
    "    if ('{' in in1):\n",
    "        j=1\n",
    "    \n",
    "    elif ('}' in in1):\n",
    "    \n",
    "        j=0\n",
    "    elif j==1:\n",
    "        s=s+in1\n",
    "#print(s)       \n",
    "regex=r'\\#[a-fA-F0-9]{3,6}'\n",
    "y=re.findall(regex,s)\n",
    "for k in y:\n",
    "    print(k)\n"
   ]
  },
  {
   "cell_type": "markdown",
   "id": "767b1316",
   "metadata": {},
   "source": [
    "#### Validating UID "
   ]
  },
  {
   "cell_type": "code",
   "execution_count": null,
   "id": "998341f2",
   "metadata": {},
   "outputs": [],
   "source": [
    "# Enter your code here. Read input from STDIN. Print output to STDOUT\n",
    "import re \n",
    "in1=int(input())\n",
    "for _ in range(in1):\n",
    "    in2=input()\n",
    "    regex=r'[A-Z]{1,7}|[0-9]{1,8}|[a-z]{1,5}'\n",
    "    m=re.findall(regex,in2)\n",
    "    j=0\n",
    "    s=''\n",
    "    upper=0\n",
    "    digit=0\n",
    "    z=5\n",
    "    for i in m:\n",
    "        for k in i:\n",
    "            if k not in s:\n",
    "                if k.isupper():\n",
    "                    upper=upper+1\n",
    "                if k.isdigit():\n",
    "                    digit=digit+1\n",
    "                s=s+k\n",
    "                j=j+len(k)\n",
    "            else:\n",
    "                z=0\n",
    "                print('Invalid')\n",
    "                break\n",
    "        if z==0:\n",
    "            break\n",
    "            \n",
    "    if j==len(in2) and (upper>=2) and (digit>=3):\n",
    "                print('Valid')\n",
    "            \n",
    "    #print(upper,digit)        \n",
    "    if  (upper<2) or (digit<3):\n",
    "        if z!=0:   \n",
    "            print('Invalid')\n",
    "    \n"
   ]
  },
  {
   "cell_type": "markdown",
   "id": "f7aca033",
   "metadata": {},
   "source": [
    "#### Validating Credit Card Numbers"
   ]
  },
  {
   "cell_type": "code",
   "execution_count": null,
   "id": "e184db25",
   "metadata": {},
   "outputs": [],
   "source": [
    "# Enter your code here. Read input from STDIN. Print output to STDOUT\n",
    "in1=int(input())\n",
    "import re\n",
    "for _ in range(in1):\n",
    "    in2=input()\n",
    "    regex='^([4|5|6][0-9]{3}-?)([0-9]{4}-?)([0-9]{4}-?)([0-9]{4})$'\n",
    "   \n",
    "    k=0\n",
    "    s=''\n",
    "    in3=in2\n",
    "    in3=in3.replace('-','')\n",
    "    for i,j in enumerate(in3):\n",
    "        if i>0:\n",
    "            #print(s,s[-1],j,k)\n",
    "            if s[-1]==j:\n",
    "                \n",
    "            \n",
    "                k=k+1\n",
    "                \n",
    "                if k==3:\n",
    "                    print(\"Invalid\")\n",
    "                    break\n",
    "            else:\n",
    "                k=0   \n",
    "            s=s+j\n",
    "        elif k==3 :\n",
    "            break\n",
    "        else:\n",
    "            s=s+j\n",
    "            \n",
    "    if re.match(regex,in2)==None and k!=3:\n",
    "                  print('Invalid')\n",
    "                \n",
    "    elif (re.match(regex,in2)!=None) and k!=3:\n",
    "              print('Valid')\n"
   ]
  },
  {
   "cell_type": "markdown",
   "id": "be5dcf8d",
   "metadata": {},
   "source": [
    "#### Birthday Cake Candles"
   ]
  },
  {
   "cell_type": "code",
   "execution_count": null,
   "id": "f87aabec",
   "metadata": {},
   "outputs": [],
   "source": [
    "#!/bin/python3\n",
    "\n",
    "import math\n",
    "import os\n",
    "import random\n",
    "import re\n",
    "import sys\n",
    "\n",
    "#\n",
    "# Complete the 'birthdayCakeCandles' function below.\n",
    "#\n",
    "# The function is expected to return an INTEGER.\n",
    "# The function accepts INTEGER_ARRAY candles as parameter.\n",
    "#\n",
    "\n",
    "def birthdayCakeCandles(candles):\n",
    "    k=max(candles)\n",
    "    h=0\n",
    "    for i in candles:\n",
    "        if i==k:\n",
    "            h=h+1\n",
    "    return h\n",
    "\n",
    "if __name__ == '__main__':\n",
    "    fptr = open(os.environ['OUTPUT_PATH'], 'w')\n",
    "\n",
    "    candles_count = int(input().strip())\n",
    "\n",
    "    candles = list(map(int, input().rstrip().split()))\n",
    "\n",
    "    result = birthdayCakeCandles(candles)\n",
    "\n",
    "    fptr.write(str(result) + '\\n')\n",
    "\n",
    "    fptr.close()\n"
   ]
  },
  {
   "cell_type": "markdown",
   "id": "bbb0f924",
   "metadata": {},
   "source": [
    "#### Number Line Jumps"
   ]
  },
  {
   "cell_type": "code",
   "execution_count": null,
   "id": "fc518b28",
   "metadata": {},
   "outputs": [],
   "source": [
    "#!/bin/python3\n",
    "\n",
    "import math\n",
    "import os\n",
    "import random\n",
    "import re\n",
    "import sys\n",
    "\n",
    "#\n",
    "# Complete the 'kangaroo' function below.\n",
    "#\n",
    "# The function is expected to return a STRING.\n",
    "# The function accepts following parameters:\n",
    "#  1. INTEGER x1\n",
    "#  2. INTEGER v1\n",
    "#  3. INTEGER x2\n",
    "#  4. INTEGER v2\n",
    "#\n",
    "\n",
    "def kangaroo(x1, v1, x2, v2):\n",
    "    # Write your code here\n",
    "    while ((x1<x2) and (v1>v2)) or ((x1>x2) and (v1<v2)):\n",
    "        x1=x1+v1\n",
    "        x2=x2+v2\n",
    "        if x1==x2:\n",
    "            return \"YES\"\n",
    "            break\n",
    "    if x1!=x2:\n",
    "        return 'NO'\n",
    "\n",
    "if __name__ == '__main__':\n",
    "    fptr = open(os.environ['OUTPUT_PATH'], 'w')\n",
    "\n",
    "    first_multiple_input = input().rstrip().split()\n",
    "\n",
    "    x1 = int(first_multiple_input[0])\n",
    "\n",
    "    v1 = int(first_multiple_input[1])\n",
    "\n",
    "    x2 = int(first_multiple_input[2])\n",
    "\n",
    "    v2 = int(first_multiple_input[3])\n",
    "\n",
    "    result = kangaroo(x1, v1, x2, v2)\n",
    "\n",
    "    fptr.write(result + '\\n')\n",
    "\n",
    "    fptr.close()\n"
   ]
  },
  {
   "cell_type": "markdown",
   "id": "b7bd1d23",
   "metadata": {},
   "source": [
    "#### Viral Advertising"
   ]
  },
  {
   "cell_type": "code",
   "execution_count": null,
   "id": "1c603512",
   "metadata": {},
   "outputs": [],
   "source": [
    "#!/bin/python3\n",
    "\n",
    "import math\n",
    "import os\n",
    "import random\n",
    "import re\n",
    "import sys\n",
    "\n",
    "#\n",
    "# Complete the 'viralAdvertising' function below.\n",
    "#\n",
    "# The function is expected to return an INTEGER.\n",
    "# The function accepts INTEGER n as parameter.\n",
    "#\n",
    "\n",
    "def viralAdvertising(n):\n",
    "    # Write your code here\n",
    "    \n",
    "    j=5\n",
    "    liked=5//2\n",
    "    shared=liked*3\n",
    "    cum=liked\n",
    "    for i in range(n-1):\n",
    "        liked=shared//2\n",
    "        shared=liked*3\n",
    "        cum=cum+liked\n",
    "    return cum\n",
    "\n",
    "if __name__ == '__main__':\n",
    "    fptr = open(os.environ['OUTPUT_PATH'], 'w')\n",
    "\n",
    "    n = int(input().strip())\n",
    "\n",
    "    result = viralAdvertising(n)\n",
    "\n",
    "    fptr.write(str(result) + '\\n')\n",
    "\n",
    "    fptr.close()\n"
   ]
  },
  {
   "cell_type": "markdown",
   "id": "8a45bc47",
   "metadata": {},
   "source": [
    "#### Recursive Digit Sum"
   ]
  },
  {
   "cell_type": "code",
   "execution_count": null,
   "id": "8d1db66a",
   "metadata": {},
   "outputs": [],
   "source": [
    "#!/bin/python3\n",
    "\n",
    "import math\n",
    "import os\n",
    "import random\n",
    "import re\n",
    "import sys\n",
    "\n",
    "#\n",
    "# Complete the 'superDigit' function below.\n",
    "#\n",
    "# The function is expected to return an INTEGER.\n",
    "# The function accepts following parameters:\n",
    "#  1. STRING n\n",
    "#  2. INTEGER k\n",
    "#\n",
    "\n",
    "def superDigit(n, k):\n",
    "    # Write your code here\n",
    " s=''\n",
    " def sum1(s):\n",
    "         sum=0\n",
    "         for i in s:\n",
    "            sum=sum+int(i)\n",
    "         return str(sum)\n",
    " s=str(n)\n",
    " s=sum1(sum1(s)*k)\n",
    " \n",
    " while len(s)>1:\n",
    "         sum=int(sum1(s))\n",
    "         s=str(sum)\n",
    " return sum\n",
    "if __name__ == '__main__':\n",
    "    fptr = open(os.environ['OUTPUT_PATH'], 'w')\n",
    "\n",
    "    first_multiple_input = input().rstrip().split()\n",
    "\n",
    "    n = first_multiple_input[0]\n",
    "\n",
    "    k = int(first_multiple_input[1])\n",
    "\n",
    "    result = superDigit(n, k)\n",
    "\n",
    "    fptr.write(str(result) + '\\n')\n",
    "\n",
    "    fptr.close()\n"
   ]
  },
  {
   "cell_type": "markdown",
   "id": "b364d7b3",
   "metadata": {},
   "source": [
    "#### Insertion Sort - Part 1"
   ]
  },
  {
   "cell_type": "code",
   "execution_count": null,
   "id": "19314e18",
   "metadata": {},
   "outputs": [],
   "source": [
    "#!/bin/python3\n",
    "\n",
    "import math\n",
    "import os\n",
    "import random\n",
    "import re\n",
    "import sys\n",
    "\n",
    "#\n",
    "# Complete the 'insertionSort1' function below.\n",
    "#\n",
    "# The function accepts following parameters:\n",
    "#  1. INTEGER n\n",
    "#  2. INTEGER_ARRAY arr\n",
    "#\n",
    "\n",
    "def insertionSort1(n, arr):\n",
    "    # Write your code here\n",
    "    sort_n=arr[-1]\n",
    "    for i in range(n):\n",
    "        if arr[n-i-2]>sort_n and (n-i-2>=0):\n",
    "            arr[n-i-1]=arr[n-i-2]\n",
    "            print(*arr)\n",
    "        elif n-i-2<0:\n",
    "            arr[0]=sort_n\n",
    "            print(*arr)\n",
    "        else:\n",
    "            arr[n-i-1]=sort_n\n",
    "            print(*arr)\n",
    "            break\n",
    "if __name__ == '__main__':\n",
    "    n = int(input().strip())\n",
    "\n",
    "    arr = list(map(int, input().rstrip().split()))\n",
    "\n",
    "    insertionSort1(n, arr)\n"
   ]
  },
  {
   "cell_type": "markdown",
   "id": "00b92c44",
   "metadata": {},
   "source": [
    "#### Insertion Sort - Part 2"
   ]
  },
  {
   "cell_type": "code",
   "execution_count": null,
   "id": "b89b2af1",
   "metadata": {},
   "outputs": [],
   "source": [
    "#!/bin/python3\n",
    "\n",
    "import math\n",
    "import os\n",
    "import random\n",
    "import re\n",
    "import sys\n",
    "\n",
    "#\n",
    "# Complete the 'insertionSort2' function below.\n",
    "#\n",
    "# The function accepts following parameters:\n",
    "#  1. INTEGER n\n",
    "#  2. INTEGER_ARRAY arr\n",
    "#\n",
    "\n",
    "def insertionSort2(n, arr):\n",
    "    # Write your code here\n",
    "    \n",
    "    for i in range(1,n):\n",
    "        min1=arr[i]\n",
    "        for j in range(0,i):\n",
    "            if min1<arr[j]:\n",
    "                \n",
    "                list1=arr[j:]\n",
    "                arr[j]=min1\n",
    "                list1.remove(min1)\n",
    "                for k in range(j+1,n):\n",
    "                    arr[k]=list1[k-j-1]\n",
    "                break\n",
    "   \n",
    "        print(*arr)\n",
    "if __name__ == '__main__':\n",
    "    n = int(input().strip())\n",
    "\n",
    "    arr = list(map(int, input().rstrip().split()))\n",
    "\n",
    "    insertionSort2(n, arr)\n"
   ]
  },
  {
   "cell_type": "markdown",
   "id": "91bdde8f",
   "metadata": {},
   "source": [
    "#### XML 1 - Find the Score"
   ]
  },
  {
   "cell_type": "code",
   "execution_count": null,
   "id": "20df1363",
   "metadata": {},
   "outputs": [],
   "source": [
    "\n",
    "\n",
    "\n",
    "\n",
    "def get_attr_number(node):\n",
    "    # your code goes here\n",
    "    sum=0\n",
    "    sum=sum+len(node.attrib)\n",
    "    for i in node:\n",
    "        sum=sum+get_attr_number(i)\n",
    "\n",
    "     \n",
    "    return sum\n",
    "\n"
   ]
  },
  {
   "cell_type": "markdown",
   "id": "d8165483",
   "metadata": {},
   "source": [
    "#### XML2 - Find the Maximum Depth"
   ]
  },
  {
   "cell_type": "code",
   "execution_count": null,
   "id": "740878d6",
   "metadata": {},
   "outputs": [],
   "source": [
    "\n",
    "\n",
    "maxdepth = 0\n",
    "def depth(elem, level):\n",
    "    global maxdepth\n",
    "    if (level == maxdepth):\n",
    "        maxdepth += 1\n",
    "    for child in elem:\n",
    "        depth(child, level + 1) \n",
    "\n",
    "\n"
   ]
  },
  {
   "cell_type": "markdown",
   "id": "14bdc3c4",
   "metadata": {},
   "source": [
    "#### Arrays"
   ]
  },
  {
   "cell_type": "code",
   "execution_count": null,
   "id": "cfc39d11",
   "metadata": {},
   "outputs": [],
   "source": [
    "\n",
    "\n",
    "def arrays(arr):\n",
    "    # complete this function\n",
    "    # use numpy.array\n",
    "    n_arr=numpy.array(arr,float)\n",
    "    return n_arr[::-1]\n",
    "    \n",
    "\n"
   ]
  },
  {
   "cell_type": "markdown",
   "id": "f4c32a36",
   "metadata": {},
   "source": [
    "#### Shape and Reshape"
   ]
  },
  {
   "cell_type": "code",
   "execution_count": null,
   "id": "8eb67cae",
   "metadata": {},
   "outputs": [],
   "source": [
    "import numpy\n",
    "\n",
    "\n",
    "\n",
    "result=input().split(' ')\n",
    "arr=numpy.array(result,int)\n",
    "print(arr.reshape((3,3)))\n"
   ]
  },
  {
   "cell_type": "markdown",
   "id": "e83ff0c1",
   "metadata": {},
   "source": [
    "#### Transpose and Flatten"
   ]
  },
  {
   "cell_type": "code",
   "execution_count": null,
   "id": "08f686ea",
   "metadata": {},
   "outputs": [],
   "source": [
    "import numpy\n",
    "\n",
    "\n",
    "result=[]\n",
    "\n",
    "n,m=input().split(' ')\n",
    "\n",
    "for _ in range(int(n)):\n",
    "  \n",
    "    result.append(input().split(' '))\n",
    "arr=numpy.array(result,int)\n",
    "print(arr.T)\n",
    "print(arr.flatten())\n"
   ]
  },
  {
   "cell_type": "markdown",
   "id": "09d67a9b",
   "metadata": {},
   "source": [
    "#### Concatenate"
   ]
  },
  {
   "cell_type": "code",
   "execution_count": null,
   "id": "639f7efd",
   "metadata": {},
   "outputs": [],
   "source": [
    "import numpy\n",
    "\n",
    "\n",
    "\n",
    "n,m,p=input().split(' ')\n",
    "list1=[]\n",
    "for _ in range(int(n)):\n",
    "    list1.append(input().split(' '))\n",
    "arr1=numpy.array(list1,int)    \n",
    "list1=[]\n",
    "for _ in range(int(m)):\n",
    "    list1.append(input().split(' '))\n",
    "arr2=numpy.array(list1,int)\n",
    "print(numpy.concatenate((arr1,arr2),axis=0))\n"
   ]
  },
  {
   "cell_type": "markdown",
   "id": "b8fc660e",
   "metadata": {},
   "source": [
    "#### Zeros and Ones"
   ]
  },
  {
   "cell_type": "code",
   "execution_count": null,
   "id": "ea9fa14a",
   "metadata": {},
   "outputs": [],
   "source": [
    "# Enter your code here. Read input from STDIN. Print output to STDOUT\n",
    "import numpy\n",
    "result=input().split(' ')\n",
    "\n",
    "print(numpy.zeros(tuple([int(x) for x in result]),dtype=numpy.int))\n",
    "print(numpy.ones(tuple([int(x) for x in result]),dtype=numpy.int))\n"
   ]
  },
  {
   "cell_type": "markdown",
   "id": "7fe5ad55",
   "metadata": {},
   "source": [
    "#### Eye and Identity"
   ]
  },
  {
   "cell_type": "code",
   "execution_count": null,
   "id": "63e5b334",
   "metadata": {},
   "outputs": [],
   "source": [
    "import numpy\n",
    "numpy.set_printoptions(legacy='1.13')\n",
    "m,n=input().split(' ')\n",
    "print(numpy.eye(int(m),int(n),k=0))\n",
    "\n",
    "\n"
   ]
  },
  {
   "cell_type": "markdown",
   "id": "ba5d4c99",
   "metadata": {},
   "source": [
    "#### Array Mathematics"
   ]
  },
  {
   "cell_type": "code",
   "execution_count": null,
   "id": "59e778d8",
   "metadata": {},
   "outputs": [],
   "source": [
    "import numpy\n",
    "\n",
    "\n",
    "n,m=input().split(' ')\n",
    "list1=[]\n",
    "for i in range(int(n)):\n",
    "    list1.append(input().split(' '))\n",
    "arr1=numpy.array(list1,int)\n",
    "\n",
    "list2=[]\n",
    "for i in range(int(n)):\n",
    "    list2.append(input().split(' '))\n",
    "arr2=numpy.array(list2,int)\n",
    "print(arr1+arr2)\n",
    "print(arr1-arr2)\n",
    "print(arr1*arr2)\n",
    "print(numpy.floor_divide(arr1,arr2))\n",
    "print(arr1%arr2)\n",
    "print(arr1**arr2)\n"
   ]
  },
  {
   "cell_type": "markdown",
   "id": "eb878f93",
   "metadata": {},
   "source": [
    "#### Floor, Ceil and Rint"
   ]
  },
  {
   "cell_type": "code",
   "execution_count": null,
   "id": "6cfeaf96",
   "metadata": {},
   "outputs": [],
   "source": [
    "import numpy\n",
    "numpy.set_printoptions(legacy='1.13')\n",
    "\n",
    "m=input().split(' ')\n",
    "arr1=numpy.array(m,float)\n",
    "print(numpy.floor(arr1))\n",
    "print(numpy.ceil(arr1))\n",
    "print(numpy.rint(arr1))\n"
   ]
  },
  {
   "cell_type": "markdown",
   "id": "ee368f31",
   "metadata": {},
   "source": [
    "#### Sum and Prod"
   ]
  },
  {
   "cell_type": "code",
   "execution_count": null,
   "id": "2883992e",
   "metadata": {},
   "outputs": [],
   "source": [
    "import numpy\n",
    "\n",
    "m,n=input().split(' ')\n",
    "list1=[]\n",
    "for _ in range(int(n)):\n",
    "    list1.append(input().split(' '))\n",
    "arr1=numpy.array(list1,int)\n",
    "#print(numpy.sum(arr1,axis=0))\n",
    "print(numpy.product(numpy.sum(arr1,axis=0),axis=0))\n",
    "    \n",
    "\n"
   ]
  },
  {
   "cell_type": "markdown",
   "id": "bf59967b",
   "metadata": {},
   "source": [
    "#### Min and Max"
   ]
  },
  {
   "cell_type": "code",
   "execution_count": null,
   "id": "49ccbc38",
   "metadata": {},
   "outputs": [],
   "source": [
    "import numpy\n",
    "\n",
    "\n",
    "\n",
    "n,m=input().split(' ')\n",
    "list1=[]\n",
    "for _ in range(int(n)):\n",
    "    list1.append(input().split(' '))\n",
    "arr1=numpy.array(list1,int)\n",
    "print(numpy.max(numpy.min(arr1,axis=1)))\n"
   ]
  },
  {
   "cell_type": "markdown",
   "id": "58a625ee",
   "metadata": {},
   "source": [
    "#### Matrix Script"
   ]
  },
  {
   "cell_type": "code",
   "execution_count": null,
   "id": "9b304615",
   "metadata": {},
   "outputs": [],
   "source": [
    "#!/bin/python3\n",
    "\n",
    "import math\n",
    "import os\n",
    "import random\n",
    "import re\n",
    "import sys\n",
    "\n",
    "\n",
    "\n",
    "\n",
    "first_multiple_input = input().rstrip().split()\n",
    "\n",
    "n = int(first_multiple_input[0])\n",
    "\n",
    "m = int(first_multiple_input[1])\n",
    "\n",
    "matrix = []\n",
    "\n",
    "for _ in range(n):\n",
    "    matrix_item = input()\n",
    "    matrix.append(matrix_item)\n",
    "s=''\n",
    "for j in range(m):\n",
    "    for i in matrix:\n",
    "        s=s+i[j]\n",
    "pattern = \"(?<=[a-zA-Z0-9])([^a-zA-Z0-9]+)(?=[a-zA-Z0-9])\"\n",
    "text = re.sub(pattern, \" \", s)\n",
    "print(text)\n",
    "    \n"
   ]
  },
  {
   "cell_type": "markdown",
   "id": "c745b921",
   "metadata": {},
   "source": [
    "#### Mean, Var, and Std"
   ]
  },
  {
   "cell_type": "code",
   "execution_count": null,
   "id": "80c8e57e",
   "metadata": {},
   "outputs": [],
   "source": [
    "import numpy\n",
    "\n",
    "\n",
    "\n",
    "n,m=input().split(' ')\n",
    "list1=[]\n",
    "for _ in range(int(n)):\n",
    "    list1.append(input().split(' '))\n",
    "arr1=numpy.array(list1,int)\n",
    "print(numpy.mean(arr1,axis=1))\n",
    "print(numpy.var(arr1,axis=0))\n",
    "print(round(numpy.std(arr1),11))\n"
   ]
  },
  {
   "cell_type": "markdown",
   "id": "a33cfd74",
   "metadata": {},
   "source": [
    "#### Dot and Cross"
   ]
  },
  {
   "cell_type": "code",
   "execution_count": null,
   "id": "08de4793",
   "metadata": {},
   "outputs": [],
   "source": [
    "import numpy\n",
    "\n",
    "n=input()\n",
    "list1=[]\n",
    "for _ in range(int(n)):\n",
    "    list1.append(input().split(' '))\n",
    "arr1=numpy.array(list1,int)\n",
    "list1=[]\n",
    "for _ in range(int(n)):\n",
    "    list1.append(input().split(' '))\n",
    "arr2=numpy.array(list1,int)\n",
    "print(numpy.matmul(arr1,arr2))\n"
   ]
  },
  {
   "cell_type": "markdown",
   "id": "8470c0d9",
   "metadata": {},
   "source": [
    "#### Inner and Outer"
   ]
  },
  {
   "cell_type": "code",
   "execution_count": null,
   "id": "80824921",
   "metadata": {},
   "outputs": [],
   "source": [
    "import numpy\n",
    "\n",
    "\n",
    "arr1=numpy.array(input().split(' '),int)\n",
    "arr2=numpy.array(input().split(' '),int)\n",
    "print(numpy.inner(arr1,arr2))\n",
    "print(numpy.outer(arr1,arr2))\n"
   ]
  },
  {
   "cell_type": "markdown",
   "id": "4d6cd9ee",
   "metadata": {},
   "source": [
    "#### Polynomials"
   ]
  },
  {
   "cell_type": "code",
   "execution_count": null,
   "id": "32668bcf",
   "metadata": {},
   "outputs": [],
   "source": [
    "import numpy\n",
    "\n",
    "\n",
    "\n",
    "print(numpy.polyval([float(x) for x in input().split(' ')],float(input())))\n"
   ]
  },
  {
   "cell_type": "markdown",
   "id": "4fd708b8",
   "metadata": {},
   "source": [
    "#### Standardize Mobile Number Using Decorators"
   ]
  },
  {
   "cell_type": "code",
   "execution_count": null,
   "id": "60034b91",
   "metadata": {},
   "outputs": [],
   "source": [
    "def wrapper(f):\n",
    "    def fun(l):\n",
    "        # complete the function\n",
    "    \n",
    "        list1=[]\n",
    "        #print(l)\n",
    "        for i in l:\n",
    "            if len(i)>10:\n",
    "        \n",
    "                list1.append('+91'+' '+i[-10:-5]+' '+i[-5:])\n",
    "            else:\n",
    "                list1.append('+91'+' '+i[0:5]+' '+i[5:10])\n",
    "        x=sorted(list1)\n",
    "        print(*x,sep='\\n' )\n",
    "    \n",
    "    return fun\n",
    "\n"
   ]
  },
  {
   "cell_type": "markdown",
   "id": "8f974abb",
   "metadata": {},
   "source": [
    "#### Decorators 2 - Name Directory"
   ]
  },
  {
   "cell_type": "code",
   "execution_count": null,
   "id": "025957e4",
   "metadata": {},
   "outputs": [],
   "source": [
    "\n",
    "\n",
    "def person_lister(f):\n",
    "    def inner(people):\n",
    "        # complete the function\n",
    "        \n",
    "        list1=[]\n",
    "        for p in people: ## convert string age to int age\n",
    "            p[2] = int(p[2])\n",
    "        people.sort(key=operator.itemgetter(2)) ## sort by age\n",
    "        for i in people: \n",
    "            list1.append(f(i))\n",
    "        return list1\n",
    "    return inner\n",
    "\n"
   ]
  },
  {
   "cell_type": "markdown",
   "id": "010d9b14",
   "metadata": {},
   "source": [
    "#### Linear Algebra"
   ]
  },
  {
   "cell_type": "code",
   "execution_count": null,
   "id": "83b5fee7",
   "metadata": {},
   "outputs": [],
   "source": [
    "import numpy\n",
    "\n",
    "\n",
    "list1=[]\n",
    "for _ in range(int(input())):\n",
    "    list1.append(input().split(' '))\n",
    "arr1=numpy.array(list1,dtype=float)\n",
    "y=numpy.linalg.det(arr1)\n",
    "i=str(y).find('.')\n",
    "if len(str(y)[i:-1])>2:\n",
    "    print('{:.2f}'.format(y))\n",
    "else:\n",
    "    print('{:.1f}'.format(y))\n"
   ]
  },
  {
   "cell_type": "markdown",
   "id": "d85f1979",
   "metadata": {},
   "source": [
    "#### HTML Parser - Part 1"
   ]
  },
  {
   "cell_type": "code",
   "execution_count": null,
   "id": "9f3435fd",
   "metadata": {},
   "outputs": [],
   "source": [
    "from html.parser import HTMLParser\n",
    "N = int(input())\n",
    "html = \"\"\n",
    "for i in range(0,N):\n",
    "    html += input()\n",
    "\n",
    "# create a subclass and override the handler methods\n",
    "class MyHTMLParser(HTMLParser):\n",
    "    def handle_starttag(self, tag, attrs):\n",
    "        print (\"Start : {}\".format(tag))\n",
    "#        print(\"Attributes : {}\".format(attrs))\n",
    "        if(len(attrs)):\n",
    "#           print(\"Came in attrs\")\n",
    "            for a,b in attrs:\n",
    "                print(\"-> {} > {}\".format(a,b))\n",
    "    def handle_endtag(self, tag):\n",
    "        print (\"End   : {}\".format(tag))\n",
    "    def handle_startendtag(self, tag, attrs):\n",
    "        print (\"Empty : {}\".format(tag))\n",
    "        if(len(attrs)):\n",
    "#           print(\"Came in attrs\")\n",
    "            for a,b in attrs:\n",
    "                print(\"-> {} > {}\".format(a,b))\n",
    "\n",
    "# instantiate the parser and fed it some HTML\n",
    "parser = MyHTMLParser()\n",
    "parser.feed(html)\n"
   ]
  },
  {
   "cell_type": "markdown",
   "id": "e7df5080",
   "metadata": {},
   "source": [
    "#### HTML Parser - Part 2"
   ]
  },
  {
   "cell_type": "code",
   "execution_count": null,
   "id": "ac6baf71",
   "metadata": {},
   "outputs": [],
   "source": [
    "from html.parser import HTMLParser\n",
    "import re\n",
    "class MyHTMLParser(HTMLParser):\n",
    "  \n",
    "   def handle_comment(self, data):\n",
    "          \n",
    "          if '\\n' not in data:\n",
    "            print('>>> Single-line Comment')\n",
    "            print(data)\n",
    "          else:\n",
    "            print('>>> Multi-line Comment')\n",
    "            print(data)\n",
    "   def handle_data(self, data):\n",
    "        if not bool(re.match(r'^\\s*$',data)):\n",
    "            print ('>>> Data')\n",
    "            print(data)\n",
    "               \n",
    "        \n",
    "          \n",
    "  \n",
    "  \n",
    "  \n",
    "  \n",
    "  \n",
    "  \n",
    "  \n",
    "  \n",
    "html = \"\"       \n",
    "for i in range(int(input())):\n",
    "    html += input().rstrip()\n",
    "    html += '\\n'\n",
    "    \n",
    "parser = MyHTMLParser()\n",
    "parser.feed(html)\n",
    "parser.close()\n"
   ]
  },
  {
   "cell_type": "markdown",
   "id": "89a61f6f",
   "metadata": {},
   "source": [
    "#### Detect HTML Tags, Attributes and Attribute Values"
   ]
  },
  {
   "cell_type": "code",
   "execution_count": null,
   "id": "2054a0ae",
   "metadata": {},
   "outputs": [],
   "source": [
    "# Enter your code here. Read input from STDIN. Print output to STDOUT\n",
    "from html.parser import HTMLParser\n",
    "import re\n",
    "# create a subclass and overshadows the handler methods\n",
    "class MyHTMLParser(HTMLParser):\n",
    "    def handle_starttag(self, tag, attrs):\n",
    "        print (tag)\n",
    "        if len(attrs)>0:\n",
    "            for i in attrs:\n",
    "                print('-> '+i[0]+' > '+str(i[1]))\n",
    "    def handle_startendtag(self, tag, attrs):\n",
    "        print (tag)\n",
    "        if len(attrs)>0:\n",
    "            for i in attrs:\n",
    "                print('-> '+i[0]+' > '+str(i[1]))\n",
    "\n",
    "\n",
    "y=''\n",
    "for i in range(int(input())):\n",
    "    y=y+input()\n",
    "# instantiate the parser\n",
    "parser = MyHTMLParser()\n",
    "parser.feed(y)\n",
    "    \n",
    "          \n"
   ]
  },
  {
   "cell_type": "markdown",
   "id": "6dd1b078",
   "metadata": {},
   "source": [
    "#### Validating Postal Codes"
   ]
  },
  {
   "cell_type": "code",
   "execution_count": null,
   "id": "9861c333",
   "metadata": {},
   "outputs": [],
   "source": [
    "regex_integer_in_range = r\"^[1-9]\\d{5}$\"    # Do not delete 'r'.\n",
    "regex_alternating_repetitive_digit_pair = r\"(?=(\\d).\\1)\"    # Do not delete 'r'.\n"
   ]
  },
  {
   "cell_type": "markdown",
   "id": "2a994381",
   "metadata": {},
   "source": [
    "#### Tuples "
   ]
  },
  {
   "cell_type": "code",
   "execution_count": null,
   "id": "79cd9bb9",
   "metadata": {},
   "outputs": [],
   "source": [
    "if __name__ == '__main__':\n",
    "    n = int(input())\n",
    "    integer_list = tuple(map(int, input().split()))\n",
    "    print(hash(integer_list))\n"
   ]
  }
 ],
 "metadata": {
  "kernelspec": {
   "display_name": "Python 3 (ipykernel)",
   "language": "python",
   "name": "python3"
  },
  "language_info": {
   "codemirror_mode": {
    "name": "ipython",
    "version": 3
   },
   "file_extension": ".py",
   "mimetype": "text/x-python",
   "name": "python",
   "nbconvert_exporter": "python",
   "pygments_lexer": "ipython3",
   "version": "3.9.12"
  }
 },
 "nbformat": 4,
 "nbformat_minor": 5
}
